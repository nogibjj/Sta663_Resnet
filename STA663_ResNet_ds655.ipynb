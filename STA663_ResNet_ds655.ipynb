{
  "cells": [
    {
      "cell_type": "markdown",
      "metadata": {
        "id": "l8dVSDD9MEXh"
      },
      "source": [
        "## Imports & Data Loading"
      ]
    },
    {
      "cell_type": "code",
      "execution_count": 1,
      "metadata": {
        "id": "T9jRm9BOd0wd"
      },
      "outputs": [],
      "source": [
        "%%capture\n",
        "!pip install datasets"
      ]
    },
    {
      "cell_type": "code",
      "execution_count": 5,
      "metadata": {
        "id": "bJiKntj8dwAn"
      },
      "outputs": [
        {
          "name": "stderr",
          "output_type": "stream",
          "text": [
            "2024-03-07 02:03:25.045290: I external/local_tsl/tsl/cuda/cudart_stub.cc:31] Could not find cuda drivers on your machine, GPU will not be used.\n",
            "2024-03-07 02:03:25.074755: E external/local_xla/xla/stream_executor/cuda/cuda_dnn.cc:9261] Unable to register cuDNN factory: Attempting to register factory for plugin cuDNN when one has already been registered\n",
            "2024-03-07 02:03:25.074784: E external/local_xla/xla/stream_executor/cuda/cuda_fft.cc:607] Unable to register cuFFT factory: Attempting to register factory for plugin cuFFT when one has already been registered\n",
            "2024-03-07 02:03:25.076018: E external/local_xla/xla/stream_executor/cuda/cuda_blas.cc:1515] Unable to register cuBLAS factory: Attempting to register factory for plugin cuBLAS when one has already been registered\n",
            "2024-03-07 02:03:25.081745: I external/local_tsl/tsl/cuda/cudart_stub.cc:31] Could not find cuda drivers on your machine, GPU will not be used.\n",
            "2024-03-07 02:03:25.082258: I tensorflow/core/platform/cpu_feature_guard.cc:182] This TensorFlow binary is optimized to use available CPU instructions in performance-critical operations.\n",
            "To enable the following instructions: AVX2 FMA, in other operations, rebuild TensorFlow with the appropriate compiler flags.\n",
            "2024-03-07 02:03:26.000384: W tensorflow/compiler/tf2tensorrt/utils/py_utils.cc:38] TF-TRT Warning: Could not find TensorRT\n"
          ]
        }
      ],
      "source": [
        "%%capture\n",
        "# Importing the Required Pacakges and Libraries\n",
        "\n",
        "# Sklearn\n",
        "from sklearn.model_selection import train_test_split\n",
        "from sklearn.ensemble import RandomForestClassifier\n",
        "from sklearn.linear_model import LogisticRegression\n",
        "from sklearn.metrics import accuracy_score, confusion_matrix, classification_report\n",
        "\n",
        "# Dataset\n",
        "from datasets import load_dataset\n",
        "\n",
        "# tensorflow\n",
        "import tensorflow as tf\n",
        "from tensorflow.keras.applications.resnet50 import preprocess_input\n",
        "\n",
        "# other\n",
        "import matplotlib.pyplot as plt\n",
        "import numpy as np\n",
        "import time\n",
        "import warnings\n",
        "\n",
        "# Suppressing Warnings\n",
        "warnings.filterwarnings(\"ignore\")"
      ]
    },
    {
      "cell_type": "code",
      "execution_count": 6,
      "metadata": {
        "colab": {
          "base_uri": "https://localhost:8080/"
        },
        "id": "DjZPtPesGaFg",
        "outputId": "3d8c8085-33d0-47d1-d4e4-39ccbeb07a46"
      },
      "outputs": [
        {
          "data": {
            "text/plain": [
              "DatasetDict({\n",
              "    train: Dataset({\n",
              "        features: ['img', 'label'],\n",
              "        num_rows: 50000\n",
              "    })\n",
              "    test: Dataset({\n",
              "        features: ['img', 'label'],\n",
              "        num_rows: 10000\n",
              "    })\n",
              "})"
            ]
          },
          "execution_count": 6,
          "metadata": {},
          "output_type": "execute_result"
        }
      ],
      "source": [
        "# loading the Dataset and viewing it's structure\n",
        "dataset = load_dataset(\"cifar10\")\n",
        "dataset"
      ]
    },
    {
      "cell_type": "code",
      "execution_count": 7,
      "metadata": {
        "id": "wqZ2gwNgfkL-",
        "outputId": "6a2d08a6-e4cf-43e1-c9eb-309fbac96801"
      },
      "outputs": [
        {
          "data": {
            "text/plain": [
              "Text(0.5, 1.0, '0')"
            ]
          },
          "execution_count": 7,
          "metadata": {},
          "output_type": "execute_result"
        },
        {
          "data": {
            "image/png": "[encoded data removed]",
            "text/plain": [
              "<Figure size 640x480 with 1 Axes>"
            ]
          },
          "metadata": {},
          "output_type": "display_data"
        }
      ],
      "source": [
        "# Viewing Sample Image from Training Data\n",
        "element = next(iter(dataset[\"train\"]))\n",
        "plt.imshow(element[\"img\"])\n",
        "plt.title(element[\"label\"])"
      ]
    },
    {
      "cell_type": "markdown",
      "metadata": {
        "id": "ZPrIK3pFLuDY"
      },
      "source": [
        "> ## Data Preprocessing"
      ]
    },
    {
      "cell_type": "markdown",
      "metadata": {
        "id": "Yk3UgZx8LuDY"
      },
      "source": [
        "> The input image data is converted into numpy arrays which are normalized between 0 and 1 and have a dimesion of 1 row and 32x32x3 columns."
      ]
    },
    {
      "cell_type": "markdown",
      "metadata": {
        "id": "DeHSTwa8LuDY"
      },
      "source": [
        "> ### Training Data"
      ]
    },
    {
      "cell_type": "code",
      "execution_count": 8,
      "metadata": {
        "id": "KcZ5ZplILuDY"
      },
      "outputs": [],
      "source": [
        "X_train = np.array(\n",
        "    [(np.array(i)[None, ...] / 255.0).flatten() for i in dataset[\"train\"][\"img\"][:]]\n",
        ")  # .reshape(-1, 32 * 32 * 3)\n",
        "y_train = np.array(dataset[\"train\"][\"label\"][:])"
      ]
    },
    {
      "cell_type": "markdown",
      "metadata": {
        "id": "bNiIdYsfLuDY"
      },
      "source": [
        "> ### Test Data"
      ]
    },
    {
      "cell_type": "code",
      "execution_count": 9,
      "metadata": {
        "id": "GD3PJPt0LuDY"
      },
      "outputs": [],
      "source": [
        "X_test = np.array(\n",
        "    [(np.array(i)[None, ...] / 255.0).flatten() for i in dataset[\"test\"][\"img\"][:]]\n",
        ")  # .reshape(-1, 32 * 32 * 3)\n",
        "y_test = np.array(dataset[\"test\"][\"label\"][:])"
      ]
    },
    {
      "cell_type": "markdown",
      "metadata": {
        "id": "k6YEFlLbHyTs"
      },
      "source": [
        "> ## Model Performance without ResNet"
      ]
    },
    {
      "cell_type": "markdown",
      "metadata": {
        "id": "1lhy6I4QLuDY"
      },
      "source": [
        "> The data from the previous step is used to train a simple Random Forest model and logistic regression model to get a baseline performance.\n",
        "> \n",
        "> The metricts used to evaluate the model are:\n",
        "> - Accuracy\n",
        "> - Time to Train and Predict\n",
        "> - Confusion Matrix"
      ]
    },
    {
      "cell_type": "markdown",
      "metadata": {
        "id": "x0InvMtGH3A_"
      },
      "source": [
        "> ### Random Forest Classifier with 150 Estimators"
      ]
    },
    {
      "cell_type": "code",
      "execution_count": 10,
      "metadata": {
        "colab": {
          "base_uri": "https://localhost:8080/",
          "height": 180
        },
        "id": "AFojpT4fH8wt",
        "outputId": "032a4723-5fc8-4bd4-c812-a783f198bcec"
      },
      "outputs": [
        {
          "name": "stdout",
          "output_type": "stream",
          "text": [
            "Training Time: 230.53 Seconds\n"
          ]
        }
      ],
      "source": [
        "# Initializing the Model\n",
        "model_rf_raw = RandomForestClassifier(n_estimators=150)\n",
        "\n",
        "# Fitting the Model\n",
        "t = time.time()\n",
        "model_rf_raw.fit(X_train, y_train)\n",
        "print(f\"Training Time: {time.time() - t:.2f} Seconds\")"
      ]
    },
    {
      "cell_type": "code",
      "execution_count": 11,
      "metadata": {
        "colab": {
          "base_uri": "https://localhost:8080/"
        },
        "id": "Swu0gWhZKf8R",
        "outputId": "d5d0f570-c979-4be2-b5b6-92df15acb039"
      },
      "outputs": [
        {
          "name": "stdout",
          "output_type": "stream",
          "text": [
            "Prediction Time: 0.57 Seconds\n"
          ]
        }
      ],
      "source": [
        "# Predicting the Test Data\n",
        "t = time.time()\n",
        "y_pred = model_rf_raw.predict(X_test)\n",
        "print(f\"Prediction Time: {time.time() - t:0.2f} Seconds\")"
      ]
    },
    {
      "cell_type": "code",
      "execution_count": 12,
      "metadata": {
        "id": "9wQ6FnjpLuDZ",
        "outputId": "6447a61f-2a5e-42a5-8e50-732bf63469a1"
      },
      "outputs": [
        {
          "name": "stdout",
          "output_type": "stream",
          "text": [
            "Accuracy: 46.70%\n",
            "Confusion Matrix: \n",
            "[[564  40  54  29  28  16  24  26 160  59]\n",
            " [ 39 527  17  35  16  30  39  41  67 189]\n",
            " [105  43 329  75 144  68 125  58  23  30]\n",
            " [ 51  43  68 275  77 177 147  66  23  73]\n",
            " [ 52  16 137  52 403  40 155  91  27  27]\n",
            " [ 39  24  94 151  74 402  85  78  19  34]\n",
            " [ 11  32  79  74 102  61 565  29   7  40]\n",
            " [ 46  42  56  70  93  86  51 452  21  83]\n",
            " [ 96  88  17  27  20  34  13  22 606  77]\n",
            " [ 48 175  15  30  18  26  22  42  77 547]]\n"
          ]
        }
      ],
      "source": [
        "# Model Evaluation\n",
        "print(f\"Accuracy: {accuracy_score(y_test, y_pred):.2%}\")\n",
        "print(f\"Confusion Matrix: \\n{confusion_matrix(y_test, y_pred)}\")"
      ]
    },
    {
      "cell_type": "markdown",
      "metadata": {
        "id": "78t5m9FyLuDZ"
      },
      "source": [
        "> ### Logistic Regression with 150 iterations"
      ]
    },
    {
      "cell_type": "code",
      "execution_count": 13,
      "metadata": {
        "id": "lavsxAVlLuDZ",
        "outputId": "3a761b3e-850a-4dbe-bfab-44a6aa2782e3"
      },
      "outputs": [
        {
          "name": "stdout",
          "output_type": "stream",
          "text": [
            "Training Time: 44.41 Seconds\n"
          ]
        }
      ],
      "source": [
        "# Initializing the Model\n",
        "model_lr_raw = LogisticRegression(\n",
        "    max_iter=150, multi_class=\"multinomial\", solver=\"lbfgs\", random_state=42\n",
        ")\n",
        "\n",
        "# Fitting the Model\n",
        "t = time.time()\n",
        "model_lr_raw.fit(X_train, y_train)\n",
        "print(f\"Training Time: {time.time() - t:0.2f} Seconds\")"
      ]
    },
    {
      "cell_type": "code",
      "execution_count": 14,
      "metadata": {
        "id": "vLsGHqe7LuDZ",
        "outputId": "9fc4586f-1292-4a98-e9c4-15253daf81a2"
      },
      "outputs": [
        {
          "name": "stdout",
          "output_type": "stream",
          "text": [
            "Prediction Time: 0.06 Seconds\n"
          ]
        }
      ],
      "source": [
        "t = time.time()\n",
        "y_pred = model_lr_raw.predict(X_test)\n",
        "print(f\"Prediction Time: {time.time() - t:0.2f} Seconds\")"
      ]
    },
    {
      "cell_type": "code",
      "execution_count": 15,
      "metadata": {
        "id": "bgNLXd5_LuDZ",
        "outputId": "282b6a87-5f95-45d8-d075-2b064636a796"
      },
      "outputs": [
        {
          "name": "stdout",
          "output_type": "stream",
          "text": [
            "Accuracy: 40.77%\n",
            "Confusion Matrix: \n",
            "[[486  46  60  26  29  34  25  49 172  73]\n",
            " [ 56 472  30  35  27  31  35  52  85 177]\n",
            " [ 96  44 286  92 123  77 139  79  43  21]\n",
            " [ 40  62  98 260  60 192 141  52  37  58]\n",
            " [ 57  20 130  80 306  82 162 105  29  29]\n",
            " [ 37  49  96 163  90 328  89  69  47  32]\n",
            " [ 17  36  68 130  96  79 493  45  14  22]\n",
            " [ 43  50  72  70  82  83  44 446  37  73]\n",
            " [171  70  24  30   9  42  14  20 523  97]\n",
            " [ 70 172  26  22  18  26  51  48  90 477]]\n"
          ]
        }
      ],
      "source": [
        "# Model Evaluation\n",
        "print(f\"Accuracy: {accuracy_score(y_test, y_pred):.2%}\")\n",
        "print(f\"Confusion Matrix: \\n{confusion_matrix(y_test, y_pred)}\")"
      ]
    },
    {
      "cell_type": "markdown",
      "metadata": {
        "id": "ju-f5ErPLuDZ"
      },
      "source": [
        "> ## ResNet Optimized"
      ]
    },
    {
      "cell_type": "markdown",
      "metadata": {
        "id": "Zd3M8KroLuDZ"
      },
      "source": [
        "> The raw data is embedded using a pre-trained ResNet model and the output is used to train a Random Forest and Logistic Regression model. The metrics used to evaluate the model are the same as the previous step."
      ]
    },
    {
      "cell_type": "markdown",
      "metadata": {
        "id": "SQhjSdrBLuDZ"
      },
      "source": [
        "> ### Embedding the Data using ResNet50"
      ]
    },
    {
      "cell_type": "code",
      "execution_count": 16,
      "metadata": {
        "id": "8X68TQ5oeKra"
      },
      "outputs": [
        {
          "name": "stdout",
          "output_type": "stream",
          "text": [
            "Downloading data from https://storage.googleapis.com/tensorflow/keras-applications/resnet/resnet50_weights_tf_dim_ordering_tf_kernels_notop.h5\n",
            "94765736/94765736 [==============================] - 1s 0us/step\n"
          ]
        }
      ],
      "source": [
        "# Load a pretrained model\n",
        "model = tf.keras.applications.resnet50.ResNet50(\n",
        "    include_top=False,  # take any input shape, not just 224x224\n",
        "    weights=\"imagenet\",  # use the imagenet pretrained model\n",
        "    pooling=\"avg\",  # use global average pooling to get a 2048 vector from our image\n",
        ")"
      ]
    },
    {
      "cell_type": "code",
      "execution_count": 17,
      "metadata": {
        "id": "KlW3jtEoLuDZ"
      },
      "outputs": [],
      "source": [
        "%%capture\n",
        "def preprocess(img):\n",
        "    processed_img = preprocess_input(  # ResNet has its own preprocesser that needs to be used\n",
        "        tf.image.resize(  # resize the image to (224,224)\n",
        "            np.array(img), (224, 224) \n",
        "        )\n",
        "    )[None]\n",
        "    return processed_img\n",
        "\n",
        "\n",
        "# using the model to predict the images\n",
        "X_train_resnet = np.array(\n",
        "    [model.predict(preprocess(i)) for i in dataset[\"train\"][\"img\"][:]]\n",
        ").reshape(-1, 2048)\n",
        "X_test_resnet = np.array(\n",
        "    [model.predict(preprocess(i)) for i in dataset[\"test\"][\"img\"][:]]\n",
        ").reshape(-1, 2048)"
      ]
    },
    {
      "cell_type": "code",
      "execution_count": 18,
      "metadata": {
        "id": "0SrCCjUjLuDa",
        "outputId": "460f3208-d63b-4134-9bf7-27f5b0eff657"
      },
      "outputs": [
        {
          "data": {
            "text/plain": [
              "[<matplotlib.lines.Line2D at 0x7f8871811fc0>]"
            ]
          },
          "execution_count": 18,
          "metadata": {},
          "output_type": "execute_result"
        },
        {
          "data": {
            "image/png": "[encoded data removed]",
            "text/plain": [
              "<Figure size 640x480 with 1 Axes>"
            ]
          },
          "metadata": {},
          "output_type": "display_data"
        }
      ],
      "source": [
        "# Example of the ResNet50 Vector\n",
        "plt.plot(X_train_resnet[0].flatten())"
      ]
    },
    {
      "cell_type": "markdown",
      "metadata": {
        "id": "tWSyMqcDLuDa"
      },
      "source": [
        "> ### Random Forest Classifier with 150 Estimators"
      ]
    },
    {
      "cell_type": "code",
      "execution_count": 19,
      "metadata": {
        "id": "kG2n2tenLuDa",
        "outputId": "3f2bffcf-a223-48d1-ba88-94bd96d49fba"
      },
      "outputs": [
        {
          "name": "stdout",
          "output_type": "stream",
          "text": [
            "Training Time: 426.25 Seconds\n"
          ]
        }
      ],
      "source": [
        "# Initializing the Model\n",
        "resnet_RF = RandomForestClassifier(n_estimators=150)\n",
        "\n",
        "# Fitting the Model\n",
        "t = time.time()\n",
        "resnet_RF.fit(X_train_resnet, y_train)\n",
        "print(f\"Training Time: {time.time() - t:.2f} Seconds\")"
      ]
    },
    {
      "cell_type": "code",
      "execution_count": 20,
      "metadata": {
        "id": "tAas97hxLuDa",
        "outputId": "2c42bc96-7a76-4a91-b856-2d92469d07ba"
      },
      "outputs": [
        {
          "name": "stdout",
          "output_type": "stream",
          "text": [
            "Prediction Time: 0.62 Seconds\n"
          ]
        }
      ],
      "source": [
        "# predicting the test data\n",
        "t = time.time()\n",
        "y_pred = resnet_RF.predict(X_test_resnet)\n",
        "print(f\"Prediction Time: {time.time() - t:0.2f} Seconds\")"
      ]
    },
    {
      "cell_type": "code",
      "execution_count": 21,
      "metadata": {
        "id": "0U75SlPGLuDa",
        "outputId": "1411ac65-0341-430c-ed79-d92a5816cd1d"
      },
      "outputs": [
        {
          "name": "stdout",
          "output_type": "stream",
          "text": [
            "Accuracy: 86.53%\n",
            "Confusion Matrix: \n",
            "[[891   6  18   7   4   2   3   2  51  16]\n",
            " [  7 935   0   3   1   0   1   1   3  49]\n",
            " [ 42   1 804  26  56  18  38   8   4   3]\n",
            " [  7   3  33 752  32 100  44  17   3   9]\n",
            " [  9   0  38  28 840   6  33  42   3   1]\n",
            " [  1   0  16 106  23 823   5  24   2   0]\n",
            " [  6   1  22  36  13   7 914   0   1   0]\n",
            " [ 10   2  12  27  49  25   2 862   8   3]\n",
            " [ 38  12   2   7   0   1   3   0 924  13]\n",
            " [ 16  57   1   1   1   1   1   0  14 908]]\n"
          ]
        }
      ],
      "source": [
        "# Model Evaluation\n",
        "print(f\"Accuracy: {accuracy_score(y_test, y_pred):.2%}\")\n",
        "print(f\"Confusion Matrix: \\n{confusion_matrix(y_test, y_pred)}\")"
      ]
    },
    {
      "cell_type": "markdown",
      "metadata": {
        "id": "ZRFwhnGKLuDa"
      },
      "source": [
        "> ### Logistic Regression with 150 iterations"
      ]
    },
    {
      "cell_type": "code",
      "execution_count": 22,
      "metadata": {
        "id": "7Ao9O6-kLuDa",
        "outputId": "63de217a-71dc-4bff-99ef-e19c309797dc"
      },
      "outputs": [
        {
          "name": "stdout",
          "output_type": "stream",
          "text": [
            "Training Time: 29.07 Seconds\n"
          ]
        }
      ],
      "source": [
        "# Initializing the Model\n",
        "resnet_LR = LogisticRegression(\n",
        "    max_iter=150, multi_class=\"multinomial\", solver=\"lbfgs\", random_state=42\n",
        ")\n",
        "\n",
        "# Fitting the Model\n",
        "t = time.time()\n",
        "resnet_LR.fit(X_train_resnet, y_train)\n",
        "print(f\"Training Time: {time.time() - t:0.2f} Seconds\")"
      ]
    },
    {
      "cell_type": "code",
      "execution_count": 23,
      "metadata": {
        "id": "ydahek8OLuDa",
        "outputId": "0164b523-a275-42a6-fa74-2e5bf4f81b6c"
      },
      "outputs": [
        {
          "name": "stdout",
          "output_type": "stream",
          "text": [
            "Prediction Time: 0.09 Seconds\n"
          ]
        }
      ],
      "source": [
        "# predicting the test data\n",
        "t = time.time()\n",
        "y_pred = resnet_LR.predict(X_test_resnet)\n",
        "print(f\"Prediction Time: {time.time() - t:0.2f} Seconds\")"
      ]
    },
    {
      "cell_type": "code",
      "execution_count": 24,
      "metadata": {
        "id": "JyLlBQdWLuDa",
        "outputId": "864e2104-cd9c-4c4e-f974-acf37ea0270d"
      },
      "outputs": [
        {
          "name": "stdout",
          "output_type": "stream",
          "text": [
            "Accuracy: 90.69%\n",
            "Confusion Matrix: \n",
            "[[925   6  13   6   5   0   2   4  30   9]\n",
            " [ 10 947   0   1   0   0   1   4   6  31]\n",
            " [ 12   0 888  20  32   9  21  11   5   2]\n",
            " [  3   2  17 819  23  86  27  18   4   1]\n",
            " [  3   0  25  29 892  11  13  22   2   3]\n",
            " [  2   0   9  86  16 862   7  17   1   0]\n",
            " [  5   0  24  26   5   5 931   3   1   0]\n",
            " [  4   0   9  11  30  20   1 925   0   0]\n",
            " [ 31   6   4   0   1   1   1   0 948   8]\n",
            " [ 13  37   2   3   1   0   1   2   9 932]]\n"
          ]
        }
      ],
      "source": [
        "# Model Evaluation\n",
        "print(f\"Accuracy: {accuracy_score(y_test, y_pred):.2%}\")\n",
        "print(f\"Confusion Matrix: \\n{confusion_matrix(y_test, y_pred)}\")"
      ]
    },
    {
      "cell_type": "markdown",
      "metadata": {
        "id": "A-wVU3ZeLuDb"
      },
      "source": [
        "## Results\n",
        "> The results of the models are as follows:\n",
        ">\n",
        "> | Model                        | Accuracy | Time to Train | Time to Predict |\n",
        "> | ---------------------------- | -------- | ------------- | --------------- |\n",
        "> | Random Forest                | 0.47     | 250.53s       | 0.57s           |\n",
        "> | Logistic Regression          | 0.41     | 44.41s        | 0.06s           |\n",
        "> | Decision Trees (ResNet)      | 0.87     | 426.25s       | 0.62s           |\n",
        "> | Logistic Regression (ResNet) | 0.91     | 29.07s        | 0.09s           |\n",
        "> \n",
        "> The time to embed the data using ResNet50 was higher than the time to embed normally. however, this led to both the models showing an improvement in terms of accuracy and and confusion matrix performance\n"
      ]
    }
  ],
  "metadata": {
    "colab": {
      "provenance": [],
      "toc_visible": true
    },
    "kernelspec": {
      "display_name": "Python 3",
      "name": "python3"
    },
    "language_info": {
      "codemirror_mode": {
        "name": "ipython",
        "version": 3
      },
      "file_extension": ".py",
      "mimetype": "text/x-python",
      "name": "python",
      "nbconvert_exporter": "python",
      "pygments_lexer": "ipython3",
      "version": "3.10.13"
    }
  },
  "nbformat": 4,
  "nbformat_minor": 0
}
